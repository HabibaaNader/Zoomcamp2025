{
 "cells": [
  {
   "cell_type": "code",
   "execution_count": 1,
   "id": "a88dbd48-f858-4cc7-896e-d4db6680cfba",
   "metadata": {},
   "outputs": [
    {
     "name": "stdout",
     "output_type": "stream",
     "text": [
      "Hello World in Codespaces\n"
     ]
    }
   ],
   "source": [
    "print(\"Hello World in Codespaces\")"
   ]
  },
  {
   "cell_type": "code",
   "execution_count": null,
   "id": "ca35142a-362d-45e1-b811-b85f81a8c37b",
   "metadata": {},
   "outputs": [],
   "source": []
  }
 ],
 "metadata": {
  "kernelspec": {
   "display_name": "Python 3 (ipykernel)",
   "language": "python",
   "name": "python3"
  },
  "language_info": {
   "codemirror_mode": {
    "name": "ipython",
    "version": 3
   },
   "file_extension": ".py",
   "mimetype": "text/x-python",
   "name": "python",
   "nbconvert_exporter": "python",
   "pygments_lexer": "ipython3",
   "version": "3.12.1"
  }
 },
 "nbformat": 4,
 "nbformat_minor": 5
}
